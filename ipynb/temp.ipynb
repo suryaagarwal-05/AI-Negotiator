{
 "cells": [
  {
   "cell_type": "code",
   "execution_count": 43,
   "id": "e3993f5f",
   "metadata": {},
   "outputs": [],
   "source": [
    "from typing_extensions import TypedDict, List\n",
    "from typing import Annotated\n",
    "from langgraph.graph import add_messages\n",
    "\n",
    "class State(TypedDict):\n",
    "    \"\"\"\n",
    "    Represents the state of the graph.\n",
    "    \"\"\"\n",
    "    \n",
    "    messages : Annotated[List, add_messages]"
   ]
  },
  {
   "cell_type": "code",
   "execution_count": 44,
   "id": "f30c8001",
   "metadata": {},
   "outputs": [],
   "source": [
    "from langchain_groq import ChatGroq\n",
    "import os\n",
    "from dotenv import load_dotenv\n",
    "load_dotenv()\n",
    "\n",
    "class GroqLLM:\n",
    "    def get_llm_model(model_name=\"llama-3.3-70b-versatile\", api_key=None):\n",
    "        # Fetch the API key from environment if not specified\n",
    "        if api_key is None:\n",
    "            api_key = os.environ.get(\"GROQ_API_KEY\")\n",
    "\n",
    "        if not api_key:\n",
    "            raise ValueError(\"GROQ_API_KEY is not set in the environment or passed as an argument.\")\n",
    "\n",
    "        return ChatGroq(api_key=api_key, model=model_name)"
   ]
  },
  {
   "cell_type": "code",
   "execution_count": 45,
   "id": "aea6caf3",
   "metadata": {},
   "outputs": [],
   "source": [
    "def tool_llm(state: State):\n",
    "    return {\"messages\":[GroqLLM.get_llm_model().invoke(state[\"messages\"])]}"
   ]
  },
  {
   "cell_type": "code",
   "execution_count": 46,
   "id": "942309cf",
   "metadata": {},
   "outputs": [],
   "source": [
    "#This file be responsible for building the graph\n",
    "\n",
    "from langgraph.graph import StateGraph, START, END\n",
    "from IPython.display import display, Image\n",
    "\n",
    "class GraphBuilder:\n",
    "  def __init__(self):\n",
    "    \n",
    "    self.graph_builder = StateGraph(State)\n",
    "    self.llm = GroqLLM.get_llm_model()\n",
    "    \n",
    "  def negotiator_graph(self):\n",
    "    #tools\n",
    "    \n",
    "    #nodes\n",
    "    ##TODO: remove hardcoded strings and implement real functions to use\n",
    "    self.graph_builder.add_node(\"parser\", tool_llm)\n",
    "    self.graph_builder.add_node(\"classifier\", tool_llm)\n",
    "    self.graph_builder.add_node(\"validator\", tool_llm)\n",
    "    self.graph_builder.add_node(\"analyzer\", tool_llm)\n",
    "    self.graph_builder.add_node(\"generator\", tool_llm)\n",
    "    \n",
    "    \n",
    "    #edges\n",
    "    self.graph_builder.add_edge(START, \"parser\")\n",
    "    self.graph_builder.add_edge(\"parser\", \"classifier\")\n",
    "    self.graph_builder.add_edge(\"classifier\", \"validator\")\n",
    "    self.graph_builder.add_edge(\"validator\", \"analyzer\")\n",
    "    self.graph_builder.add_edge(\"analyzer\", \"generator\")\n",
    "    self.graph_builder.add_edge(\"generator\", END)\n",
    "    \n",
    "    return self.graph_builder.compile()\n",
    "\n",
    "  def show_graph(self):\n",
    "      display(Image(self.graph_builder.get_graph().draw_mermaid_png()))"
   ]
  },
  {
   "cell_type": "code",
   "execution_count": 47,
   "id": "4e8b8955",
   "metadata": {},
   "outputs": [],
   "source": [
    "builder = GraphBuilder()"
   ]
  },
  {
   "cell_type": "code",
   "execution_count": 48,
   "id": "bb470e4e",
   "metadata": {},
   "outputs": [
    {
     "data": {
      "image/png": "[encoded data removed]",
      "text/plain": [
       "<IPython.core.display.Image object>"
      ]
     },
     "metadata": {},
     "output_type": "display_data"
    }
   ],
   "source": [
    "compiled_graph = builder.negotiator_graph()\n",
    "display(Image(compiled_graph.get_graph().draw_mermaid_png()))  # (if get_graph exists for the compiled graph only))\n"
   ]
  }
 ],
 "metadata": {
  "kernelspec": {
   "display_name": "myenv",
   "language": "python",
   "name": "python3"
  },
  "language_info": {
   "codemirror_mode": {
    "name": "ipython",
    "version": 3
   },
   "file_extension": ".py",
   "mimetype": "text/x-python",
   "name": "python",
   "nbconvert_exporter": "python",
   "pygments_lexer": "ipython3",
   "version": "3.10.18"
  }
 },
 "nbformat": 4,
 "nbformat_minor": 5
}
